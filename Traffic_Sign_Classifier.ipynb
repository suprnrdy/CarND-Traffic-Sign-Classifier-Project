{
 "cells": [
  {
   "cell_type": "code",
   "execution_count": null,
   "metadata": {
    "collapsed": true
   },
   "outputs": [],
   "source": []
  },
  {
   "cell_type": "markdown",
   "metadata": {},
   "source": [
    "# Self-Driving Car Engineer Nanodegree\n",
    "\n",
    "## Deep Learning\n",
    "\n",
    "## Project: Build a Traffic Sign Recognition Classifier\n",
    "\n",
    "In this notebook, a template is provided for you to implement your functionality in stages, which is required to successfully complete this project. If additional code is required that cannot be included in the notebook, be sure that the Python code is successfully imported and included in your submission if necessary. \n",
    "\n",
    "> **Note**: Once you have completed all of the code implementations, you need to finalize your work by exporting the iPython Notebook as an HTML document. Before exporting the notebook to html, all of the code cells need to have been run so that reviewers can see the final implementation and output. You can then export the notebook by using the menu above and navigating to  \\n\",\n",
    "    \"**File -> Download as -> HTML (.html)**. Include the finished document along with this notebook as your submission. \n",
    "\n",
    "In addition to implementing code, there is a writeup to complete. The writeup should be completed in a separate file, which can be either a markdown file or a pdf document. There is a [write up template](https://github.com/udacity/CarND-Traffic-Sign-Classifier-Project/blob/master/writeup_template.md) that can be used to guide the writing process. Completing the code template and writeup template will cover all of the [rubric points](https://review.udacity.com/#!/rubrics/481/view) for this project.\n",
    "\n",
    "The [rubric](https://review.udacity.com/#!/rubrics/481/view) contains \"Stand Out Suggestions\" for enhancing the project beyond the minimum requirements. The stand out suggestions are optional. If you decide to pursue the \"stand out suggestions\", you can include the code in this Ipython notebook and also discuss the results in the writeup file.\n",
    "\n",
    "\n",
    ">**Note:** Code and Markdown cells can be executed using the **Shift + Enter** keyboard shortcut. In addition, Markdown cells can be edited by typically double-clicking the cell to enter edit mode."
   ]
  },
  {
   "cell_type": "markdown",
   "metadata": {},
   "source": [
    "---\n",
    "## Step 0: Load The Data"
   ]
  },
  {
   "cell_type": "code",
   "execution_count": 2,
   "metadata": {},
   "outputs": [],
   "source": [
    "# Load pickled data\n",
    "import pickle\n",
    "\n",
    "# TODO: Fill this in based on where you saved the training and testing data\n",
    "\n",
    "training_file = 'train.p'\n",
    "validation_file= 'valid.p'\n",
    "testing_file = 'test.p'\n",
    "\n",
    "\n",
    "with open(training_file, mode='rb') as f:\n",
    "    train = pickle.load(f)\n",
    "with open(validation_file, mode='rb') as f:\n",
    "    valid = pickle.load(f)\n",
    "with open(testing_file, mode='rb') as f:\n",
    "    test = pickle.load(f)\n",
    "    \n",
    "X_train, y_train = train['features'], train['labels']\n",
    "X_valid, y_valid = valid['features'], valid['labels']\n",
    "X_test, y_test = test['features'], test['labels']"
   ]
  },
  {
   "cell_type": "markdown",
   "metadata": {},
   "source": [
    "---\n",
    "\n",
    "## Step 1: Dataset Summary & Exploration\n",
    "\n",
    "The pickled data is a dictionary with 4 key/value pairs:\n",
    "\n",
    "- `'features'` is a 4D array containing raw pixel data of the traffic sign images, (num examples, width, height, channels).\n",
    "- `'labels'` is a 1D array containing the label/class id of the traffic sign. The file `signnames.csv` contains id -> name mappings for each id.\n",
    "- `'sizes'` is a list containing tuples, (width, height) representing the original width and height the image.\n",
    "- `'coords'` is a list containing tuples, (x1, y1, x2, y2) representing coordinates of a bounding box around the sign in the image. **THESE COORDINATES ASSUME THE ORIGINAL IMAGE. THE PICKLED DATA CONTAINS RESIZED VERSIONS (32 by 32) OF THESE IMAGES**\n",
    "\n",
    "Complete the basic data summary below. Use python, numpy and/or pandas methods to calculate the data summary rather than hard coding the results. For example, the [pandas shape method](http://pandas.pydata.org/pandas-docs/stable/generated/pandas.DataFrame.shape.html) might be useful for calculating some of the summary results. "
   ]
  },
  {
   "cell_type": "markdown",
   "metadata": {},
   "source": [
    "### Provide a Basic Summary of the Data Set Using Python, Numpy and/or Pandas"
   ]
  },
  {
   "cell_type": "code",
   "execution_count": 3,
   "metadata": {},
   "outputs": [
    {
     "name": "stdout",
     "output_type": "stream",
     "text": [
      "Number of training examples = 34799\n",
      "Number of testing examples = 12630\n",
      "Size of validation set = 4410\n",
      "Image data shape = (32, 32, 3)\n",
      "Number of classes = 43\n"
     ]
    }
   ],
   "source": [
    "### Replace each question mark with the appropriate value. \n",
    "### Use python, pandas or numpy methods rather than hard coding the results\n",
    "import numpy as np\n",
    "\n",
    "# TODO: Number of training examples\n",
    "n_train = len(X_train)\n",
    "\n",
    "# TODO: Number of validation examples\n",
    "n_validation = len(X_valid)\n",
    "\n",
    "# TODO: Number of testing examples.\n",
    "n_test = len(X_test)\n",
    "\n",
    "# TODO: What's the shape of an traffic sign image?\n",
    "image_shape = X_train[0].shape\n",
    "\n",
    "# TODO: How many unique classes/labels there are in the dataset.\n",
    "totalset = np.concatenate((y_train, y_valid, y_test))\n",
    "unique, counts = np.unique(totalset, return_counts=True)\n",
    "n_classes = len(unique)\n",
    "# print(np.asarray((unique, counts)).T)\n",
    "\n",
    "print(\"Number of training examples =\", n_train)\n",
    "print(\"Number of testing examples =\", n_test)\n",
    "print(\"Size of validation set =\", n_validation)\n",
    "print(\"Image data shape =\", image_shape)\n",
    "print(\"Number of classes =\", n_classes)"
   ]
  },
  {
   "cell_type": "markdown",
   "metadata": {},
   "source": [
    "### Include an exploratory visualization of the dataset"
   ]
  },
  {
   "cell_type": "markdown",
   "metadata": {},
   "source": [
    "Visualize the German Traffic Signs Dataset using the pickled file(s). This is open ended, suggestions include: plotting traffic sign images, plotting the count of each sign, etc. \n",
    "\n",
    "The [Matplotlib](http://matplotlib.org/) [examples](http://matplotlib.org/examples/index.html) and [gallery](http://matplotlib.org/gallery.html) pages are a great resource for doing visualizations in Python.\n",
    "\n",
    "**NOTE:** It's recommended you start with something simple first. If you wish to do more, come back to it after you've completed the rest of the sections. It can be interesting to look at the distribution of classes in the training, validation and test set. Is the distribution the same? Are there more examples of some classes than others?"
   ]
  },
  {
   "cell_type": "code",
   "execution_count": 4,
   "metadata": {},
   "outputs": [
    {
     "name": "stdout",
     "output_type": "stream",
     "text": [
      "55.6409505208\n"
     ]
    },
    {
     "data": {
      "image/png": "[encoded data removed]",
      "text/plain": [
       "<matplotlib.figure.Figure at 0x7fdb3444cf98>"
      ]
     },
     "metadata": {},
     "output_type": "display_data"
    },
    {
     "data": {
      "image/png": "[encoded data removed]",
      "text/plain": [
       "<matplotlib.figure.Figure at 0x7fdb1132a128>"
      ]
     },
     "metadata": {},
     "output_type": "display_data"
    },
    {
     "data": {
      "text/plain": [
       "<matplotlib.image.AxesImage at 0x7fdb11084a90>"
      ]
     },
     "execution_count": 4,
     "metadata": {},
     "output_type": "execute_result"
    },
    {
     "data": {
      "image/png": "[encoded data removed]",
      "text/plain": [
       "<matplotlib.figure.Figure at 0x7fdb111dc438>"
      ]
     },
     "metadata": {},
     "output_type": "display_data"
    }
   ],
   "source": [
    "### Data exploration visualization code goes here.\n",
    "### Feel free to use as many code cells as needed.\n",
    "import matplotlib.pyplot as plt\n",
    "import random\n",
    "# Visualizations will be shown in the notebook.\n",
    "%matplotlib inline\n",
    "\n",
    "index = random.randint(0, len(X_train))\n",
    "image = X_train[index]\n",
    "print(np.mean(image))\n",
    "\n",
    "fig,ax = plt.subplots()\n",
    "n, bins, patches = ax.hist(y_train,n_classes,normed=1,edgecolor='black')\n",
    "ax.set_xlabel('train_data')\n",
    "ax.set_ylabel('Density')\n",
    "ax.set_title('Histogram of train data')\n",
    "#\n",
    "fig.tight_layout()\n",
    "plt.show()\n",
    "\n",
    "fig,ax = plt.subplots()\n",
    "n, bins, patches = ax.hist(y_test,n_classes,normed=1,edgecolor='black')\n",
    "ax.set_xlabel('test_data')\n",
    "ax.set_ylabel('Density')\n",
    "ax.set_title('Histogram of test data')\n",
    "fig.tight_layout()\n",
    "plt.show()\n",
    "\n",
    "plt.figure()\n",
    "plt.imshow(image)\n"
   ]
  },
  {
   "cell_type": "markdown",
   "metadata": {},
   "source": [
    "----\n",
    "\n",
    "## Step 2: Design and Test a Model Architecture\n",
    "\n",
    "Design and implement a deep learning model that learns to recognize traffic signs. Train and test your model on the [German Traffic Sign Dataset](http://benchmark.ini.rub.de/?section=gtsrb&subsection=dataset).\n",
    "\n",
    "The LeNet-5 implementation shown in the [classroom](https://classroom.udacity.com/nanodegrees/nd013/parts/fbf77062-5703-404e-b60c-95b78b2f3f9e/modules/6df7ae49-c61c-4bb2-a23e-6527e69209ec/lessons/601ae704-1035-4287-8b11-e2c2716217ad/concepts/d4aca031-508f-4e0b-b493-e7b706120f81) at the end of the CNN lesson is a solid starting point. You'll have to change the number of classes and possibly the preprocessing, but aside from that it's plug and play! \n",
    "\n",
    "With the LeNet-5 solution from the lecture, you should expect a validation set accuracy of about 0.89. To meet specifications, the validation set accuracy will need to be at least 0.93. It is possible to get an even higher accuracy, but 0.93 is the minimum for a successful project submission. \n",
    "\n",
    "There are various aspects to consider when thinking about this problem:\n",
    "\n",
    "- Neural network architecture (is the network over or underfitting?)\n",
    "- Play around preprocessing techniques (normalization, rgb to grayscale, etc)\n",
    "- Number of examples per label (some have more than others).\n",
    "- Generate fake data.\n",
    "\n",
    "Here is an example of a [published baseline model on this problem](http://yann.lecun.com/exdb/publis/pdf/sermanet-ijcnn-11.pdf). It's not required to be familiar with the approach used in the paper but, it's good practice to try to read papers like these."
   ]
  },
  {
   "cell_type": "markdown",
   "metadata": {},
   "source": [
    "### Pre-process the Data Set (normalization, grayscale, etc.)"
   ]
  },
  {
   "cell_type": "markdown",
   "metadata": {},
   "source": [
    "Minimally, the image data should be normalized so that the data has mean zero and equal variance. For image data, `(pixel - 128)/ 128` is a quick way to approximately normalize the data and can be used in this project. \n",
    "\n",
    "Other pre-processing steps are optional. You can try different techniques to see if it improves performance. \n",
    "\n",
    "Use the code cell (or multiple code cells, if necessary) to implement the first step of your project."
   ]
  },
  {
   "cell_type": "code",
   "execution_count": 5,
   "metadata": {
    "collapsed": true
   },
   "outputs": [],
   "source": [
    "from sklearn.utils import shuffle\n",
    "from numpy import newaxis\n",
    "### Preprocess the data here. It is required to normalize the data. Other preprocessing steps could include \n",
    "### converting to grayscale, etc.\n",
    "### Feel free to use as many code cells as needed.\n",
    "import tensorflow as tf\n",
    "\n",
    "def preprocess(x):\n",
    "#     print(\"Preprocessing...\")\n",
    "    x = tf.image.rgb_to_grayscale(x)\n",
    "    # Randomly flip images \n",
    "    x = tf.map_fn(lambda img: tf.image.random_flip_left_right(img), x)    \n",
    "    # Standardize image to zero mean unit norm\n",
    "    x = tf.map_fn(lambda img: tf.image.per_image_standardization(img), x)\n",
    "    # Increase contrast to get a better image\n",
    "    x = tf.image.adjust_contrast(x, 1.21)\n",
    "    # Randomize brightness\n",
    "    x = tf.image.random_brightness(x, 0.2)\n",
    "#     x = tf.image.random_contrast(x, 1.1, 1.3)\n",
    "    return x\n"
   ]
  },
  {
   "cell_type": "markdown",
   "metadata": {},
   "source": [
    "### Model Architecture"
   ]
  },
  {
   "cell_type": "code",
   "execution_count": 6,
   "metadata": {
    "collapsed": true
   },
   "outputs": [],
   "source": [
    "### Define your architecture here.\n",
    "### Feel free to use as many code cells as needed.\n",
    "\n",
    "\n",
    "EPOCHS = 25\n",
    "BATCH_SIZE = 128"
   ]
  },
  {
   "cell_type": "code",
   "execution_count": 7,
   "metadata": {
    "collapsed": true
   },
   "outputs": [],
   "source": [
    "from tensorflow.contrib.layers import flatten\n",
    "\n",
    "def conv2d(x, W, b, strides=1):\n",
    "    x = tf.nn.conv2d(x, W, strides=[1, strides, strides, 1], padding='VALID') + b\n",
    "#     x = tf.nn.fssdfvv vdd(x, b)\n",
    "    return tf.nn.relu(x)\n",
    "\n",
    "def maxpool2d(x, k=2):\n",
    "    return tf.nn.max_pool(x, ksize=[1,k,k,1], strides=[1,k,k,1],padding='VALID')\n",
    "\n",
    "def avgpool2d(x, k=2):\n",
    "    return tf.nn.avg_pool(x, ksize=[1,k,k,1], strides=[1,k,k,1],padding='VALID')\n",
    "\n",
    "def LeNet(x):    \n",
    "    # Arguments used for tf.truncated_normal, randomly defines variables for the weights and biases for each layer\n",
    "    mu = 0\n",
    "    sigma = 0.05\n",
    "    print(keep_prob)\n",
    "    \n",
    "    weights = {\n",
    "        'wc1': tf.Variable(tf.truncated_normal([5, 5, 1, 30], mean=mu, stddev=sigma)),\n",
    "        #Made adjustments to the filter size which helped tune the NN to find enough features\n",
    "        'wc2': tf.Variable(tf.truncated_normal([5, 5, 30, 40],  mean=mu, stddev=sigma)),\n",
    "        'wc3': tf.Variable(tf.truncated_normal([5, 5, 40, 30], mean=mu, stddev=sigma)),\n",
    "        'wd1': tf.Variable(tf.truncated_normal([12000, 200],  mean=mu, stddev=sigma)),\n",
    "        'wd2': tf.Variable(tf.truncated_normal([200, 100],  mean=mu, stddev=sigma)),\n",
    "        'out': tf.Variable(tf.truncated_normal([100, 43],  mean=mu, stddev=sigma))\n",
    "    }\n",
    "    \n",
    "    biases = {\n",
    "        'bc1': tf.Variable(tf.zeros([30])),\n",
    "        'bc2': tf.Variable(tf.zeros([40])),\n",
    "        'bc3': tf.Variable(tf.zeros([30])),\n",
    "        'bd1': tf.Variable(tf.zeros([200])),\n",
    "        'bd2': tf.Variable(tf.zeros([100])),\n",
    "        'out': tf.Variable(tf.zeros([43]))\n",
    "    }\n",
    "    \n",
    "    # TODO: Layer 1: Convolutional. Input = 32x32x1. Output = 28x28x6/28x28x10.\n",
    "    # TODO: Activation.\n",
    "    conv1 = conv2d(x, weights['wc1'], biases['bc1'])\n",
    "    # TODO: Pooling. Input = 28x28x6. Output = 14x14x6.\n",
    "    conv1 = avgpool2d(conv1, k=1)\n",
    "    conv1 = tf.nn.dropout(conv1, keep_prob)\n",
    "    tf.add_to_collection(\"conv1\",conv1)\n",
    "    # TODO: Layer 2: Convolutional. Output = 10x10x16.\n",
    "    # TODO: Activation.\n",
    "    conv2 = conv2d(conv1, weights['wc2'], biases['bc2'])\n",
    "    # TODO: Pooling. Input = 10x10x16. Output = 5x5x16.\n",
    "    conv2 = avgpool2d(conv2, k=1)\n",
    "    tf.add_to_collection(\"conv2\",conv2)\n",
    "    # Conv 3\n",
    "    conv3 = conv2d(conv2, weights['wc3'], biases['bc3'])\n",
    "    # TODO: Pooling. Input = 10x10x16. Output = 5x5x16.\n",
    "    conv3 = avgpool2d(conv3, k=1)\n",
    "    tf.add_to_collection(\"conv3\",conv3)\n",
    "#     print(conv2.get_shape())\n",
    "    # TODO: Flatten. Input = 5x5x16. Output = 400.\n",
    "    flat = flatten(conv3)\n",
    "    tf.add_to_collection(\"flat\",flat)\n",
    "#     print(flat.get_shape())\n",
    "    # TODO: Layer 3: Fully Connected. Input = 400. Output = 120.\n",
    "    fc1 = tf.add(tf.matmul(flat, weights['wd1']), biases['bd1'])\n",
    "    # TODO: Activation.\n",
    "    fc1 = tf.nn.dropout(fc1, keep_prob)\n",
    "    fc1 = tf.nn.relu(fc1)\n",
    "    tf.add_to_collection(\"fc1\",fc1)\n",
    "    # TODO: Layer 4: Fully Connected. Input = 120. Output = 84.\n",
    "    fc2 = tf.add(tf.matmul(fc1, weights['wd2']), biases['bd2'])\n",
    "    # TODO: Activation.\n",
    "    fc2 = tf.nn.dropout(fc2, keep_prob)\n",
    "    fc2 = tf.nn.relu(fc2)\n",
    "    tf.add_to_collection(\"fc2\",fc2)\n",
    "    # TODO: Layer 5: Fully Connected. Input = 84. Output = 43.\n",
    "    logits = tf.add(tf.matmul(fc2, weights['out']), biases['out'])\n",
    "    tf.add_to_collection(\"logits\",logits)\n",
    "    return logits"
   ]
  },
  {
   "cell_type": "code",
   "execution_count": 8,
   "metadata": {
    "collapsed": true
   },
   "outputs": [],
   "source": [
    "### Features and labels\n",
    "x = tf.placeholder(tf.float32, (None, 32, 32,3))\n",
    "y = tf.placeholder(tf.int32, (None))\n",
    "one_hot_y = tf.one_hot(y, 43)\n",
    "keep_prob = tf.placeholder(tf.float32)"
   ]
  },
  {
   "cell_type": "code",
   "execution_count": 9,
   "metadata": {},
   "outputs": [
    {
     "name": "stdout",
     "output_type": "stream",
     "text": [
      "Tensor(\"Placeholder_2:0\", dtype=float32)\n"
     ]
    }
   ],
   "source": [
    "### Training Pipeline\n",
    "\n",
    "rate = 0.0005\n",
    "\n",
    "x_preprocessed = preprocess(x)\n",
    "logits = LeNet(x_preprocessed)\n",
    "cross_entropy = tf.nn.softmax_cross_entropy_with_logits(labels=one_hot_y, logits=logits)\n",
    "loss_operation = tf.reduce_mean(cross_entropy)\n",
    "optimizer = tf.train.AdamOptimizer(learning_rate = rate)\n",
    "training_operation = optimizer.minimize(loss_operation)"
   ]
  },
  {
   "cell_type": "code",
   "execution_count": 10,
   "metadata": {
    "collapsed": true
   },
   "outputs": [],
   "source": [
    "### Model Evaluation\n",
    "correct_prediction = tf.equal(tf.argmax(logits, 1), tf.argmax(one_hot_y, 1))\n",
    "accuracy_operation = tf.reduce_mean(tf.cast(correct_prediction, tf.float32))\n",
    "\n",
    "\n",
    "def evaluate(X_data, y_data):\n",
    "    num_examples = len(X_data)\n",
    "    total_accuracy = 0\n",
    "    total_loss = 0\n",
    "    sess = tf.get_default_session()\n",
    "    for offset in range(0, num_examples, BATCH_SIZE):\n",
    "        batch_x, batch_y = X_data[offset:offset+BATCH_SIZE], y_data[offset:offset+BATCH_SIZE]\n",
    "        loss, accuracy = sess.run([loss_operation, accuracy_operation], feed_dict={x: batch_x, y: batch_y, keep_prob: 1.0})\n",
    "        total_accuracy += (accuracy * len(batch_x))\n",
    "        total_loss += (loss * len(batch_x))\n",
    "    return total_loss/num_examples, total_accuracy / num_examples\n"
   ]
  },
  {
   "cell_type": "code",
   "execution_count": 11,
   "metadata": {
    "collapsed": true
   },
   "outputs": [],
   "source": [
    "saver = tf.train.Saver()"
   ]
  },
  {
   "cell_type": "code",
   "execution_count": null,
   "metadata": {
    "collapsed": true
   },
   "outputs": [],
   "source": []
  },
  {
   "cell_type": "markdown",
   "metadata": {},
   "source": [
    "### Train, Validate and Test the Model"
   ]
  },
  {
   "cell_type": "markdown",
   "metadata": {},
   "source": [
    "A validation set can be used to assess how well the model is performing. A low accuracy on the training and validation\n",
    "sets imply underfitting. A high accuracy on the training set but low accuracy on the validation set implies overfitting."
   ]
  },
  {
   "cell_type": "code",
   "execution_count": 12,
   "metadata": {
    "scrolled": false
   },
   "outputs": [
    {
     "name": "stdout",
     "output_type": "stream",
     "text": [
      "Training...\n",
      "\n",
      "EPOCH 1 ...\n",
      "training loss = 1.980\n",
      "validation loss = 2.074\n",
      "training Accuracy = 0.459\n",
      "validation Accuracy = 0.438\n",
      "\n",
      "EPOCH 2 ...\n",
      "training loss = 1.018\n",
      "validation loss = 1.137\n",
      "training Accuracy = 0.695\n",
      "validation Accuracy = 0.645\n",
      "\n",
      "EPOCH 3 ...\n",
      "training loss = 0.717\n",
      "validation loss = 0.813\n",
      "training Accuracy = 0.790\n",
      "validation Accuracy = 0.743\n",
      "\n",
      "EPOCH 4 ...\n",
      "training loss = 0.577\n",
      "validation loss = 0.688\n",
      "training Accuracy = 0.829\n",
      "validation Accuracy = 0.777\n",
      "\n",
      "EPOCH 5 ...\n",
      "training loss = 0.442\n",
      "validation loss = 0.534\n",
      "training Accuracy = 0.852\n",
      "validation Accuracy = 0.809\n",
      "\n",
      "EPOCH 6 ...\n",
      "training loss = 0.352\n",
      "validation loss = 0.444\n",
      "training Accuracy = 0.871\n",
      "validation Accuracy = 0.837\n",
      "\n",
      "EPOCH 7 ...\n",
      "training loss = 0.296\n",
      "validation loss = 0.395\n",
      "training Accuracy = 0.888\n",
      "validation Accuracy = 0.848\n",
      "\n",
      "EPOCH 8 ...\n",
      "training loss = 0.274\n",
      "validation loss = 0.360\n",
      "training Accuracy = 0.910\n",
      "validation Accuracy = 0.866\n",
      "\n",
      "EPOCH 9 ...\n",
      "training loss = 0.232\n",
      "validation loss = 0.327\n",
      "training Accuracy = 0.904\n",
      "validation Accuracy = 0.863\n",
      "\n",
      "EPOCH 10 ...\n",
      "training loss = 0.228\n",
      "validation loss = 0.322\n",
      "training Accuracy = 0.907\n",
      "validation Accuracy = 0.869\n",
      "\n",
      "EPOCH 11 ...\n",
      "training loss = 0.198\n",
      "validation loss = 0.286\n",
      "training Accuracy = 0.932\n",
      "validation Accuracy = 0.892\n",
      "\n",
      "EPOCH 12 ...\n",
      "training loss = 0.186\n",
      "validation loss = 0.283\n",
      "training Accuracy = 0.924\n",
      "validation Accuracy = 0.888\n",
      "\n",
      "EPOCH 13 ...\n",
      "training loss = 0.173\n",
      "validation loss = 0.274\n",
      "training Accuracy = 0.941\n",
      "validation Accuracy = 0.902\n",
      "\n",
      "EPOCH 14 ...\n",
      "training loss = 0.154\n",
      "validation loss = 0.258\n",
      "training Accuracy = 0.942\n",
      "validation Accuracy = 0.899\n",
      "\n",
      "EPOCH 15 ...\n",
      "training loss = 0.140\n",
      "validation loss = 0.232\n",
      "training Accuracy = 0.952\n",
      "validation Accuracy = 0.910\n",
      "\n",
      "EPOCH 16 ...\n",
      "training loss = 0.133\n",
      "validation loss = 0.246\n",
      "training Accuracy = 0.944\n",
      "validation Accuracy = 0.908\n",
      "\n",
      "EPOCH 17 ...\n",
      "training loss = 0.124\n",
      "validation loss = 0.216\n",
      "training Accuracy = 0.956\n",
      "validation Accuracy = 0.918\n",
      "\n",
      "EPOCH 18 ...\n",
      "training loss = 0.109\n",
      "validation loss = 0.211\n",
      "training Accuracy = 0.957\n",
      "validation Accuracy = 0.918\n",
      "\n",
      "EPOCH 19 ...\n",
      "training loss = 0.108\n",
      "validation loss = 0.212\n",
      "training Accuracy = 0.959\n",
      "validation Accuracy = 0.915\n",
      "\n",
      "EPOCH 20 ...\n",
      "training loss = 0.094\n",
      "validation loss = 0.212\n",
      "training Accuracy = 0.963\n",
      "validation Accuracy = 0.922\n",
      "\n",
      "EPOCH 21 ...\n",
      "training loss = 0.093\n",
      "validation loss = 0.202\n",
      "training Accuracy = 0.974\n",
      "validation Accuracy = 0.929\n",
      "\n",
      "EPOCH 22 ...\n",
      "training loss = 0.085\n",
      "validation loss = 0.184\n",
      "training Accuracy = 0.971\n",
      "validation Accuracy = 0.937\n",
      "\n",
      "EPOCH 23 ...\n",
      "training loss = 0.078\n",
      "validation loss = 0.203\n",
      "training Accuracy = 0.979\n",
      "validation Accuracy = 0.935\n",
      "\n",
      "EPOCH 24 ...\n",
      "training loss = 0.083\n",
      "validation loss = 0.196\n",
      "training Accuracy = 0.977\n",
      "validation Accuracy = 0.933\n",
      "\n",
      "EPOCH 25 ...\n",
      "training loss = 0.073\n",
      "validation loss = 0.200\n",
      "training Accuracy = 0.974\n",
      "validation Accuracy = 0.932\n",
      "\n",
      "Model Saved ./lenet_signs.ckpt\n"
     ]
    },
    {
     "data": {
      "image/png": "[encoded data removed]",
      "text/plain": [
       "<matplotlib.figure.Figure at 0x7fdad3e762b0>"
      ]
     },
     "metadata": {},
     "output_type": "display_data"
    },
    {
     "data": {
      "text/plain": [
       "<matplotlib.figure.Figure at 0x7fdad0636550>"
      ]
     },
     "metadata": {},
     "output_type": "display_data"
    }
   ],
   "source": [
    "### Train your model here.\n",
    "### Calculate and report the accuracy on the training and validation set.\n",
    "### Once a final model architecture is selected, \n",
    "### the accuracy on the test set should be calculated and reported as well.\n",
    "### Feel free to use as many code cells as needed.\n",
    "\n",
    "with tf.Session() as sess:\n",
    "    sess.run(tf.global_variables_initializer())\n",
    "    num_examples = len(X_train)\n",
    "    print(\"Training...\")\n",
    "    print()\n",
    "    train_loss_history = []\n",
    "    validate_loss_history = []\n",
    "    for i in range(EPOCHS):\n",
    "        X_train, y_train = shuffle(X_train, y_train)\n",
    "        for offset in range(0, num_examples, BATCH_SIZE):\n",
    "            end = offset + BATCH_SIZE\n",
    "            batch_x, batch_y = X_train[offset:end], y_train[offset:end]\n",
    "            sess.run(training_operation, feed_dict={x: batch_x, y: batch_y, keep_prob: 0.3})\n",
    "            \n",
    "        train_loss, train_accuracy = evaluate(X_train, y_train)\n",
    "        validation_loss, validation_accuracy = evaluate(X_valid, y_valid)\n",
    "        train_loss_history.append(train_loss)\n",
    "        validate_loss_history.append(validation_loss)\n",
    "        print(\"EPOCH {} ...\".format(i+1))\n",
    "#         Add training accuracy here too\n",
    "        print(\"training loss = {:.3f}\".format(train_loss))\n",
    "        print(\"validation loss = {:.3f}\".format(validation_loss))\n",
    "        print(\"training Accuracy = {:.3f}\".format(train_accuracy))\n",
    "        print(\"validation Accuracy = {:.3f}\".format(validation_accuracy))\n",
    "        print()\n",
    "        \n",
    "    loss_plot = plt.subplot(2,1,1)\n",
    "    plt.figure(figsize=(300,150))\n",
    "    loss_plot.set_title('Loss')\n",
    "    loss_plot.plot(train_loss_history, 'r', label='Training Loss')\n",
    "    loss_plot.plot(validate_loss_history, 'b', label='Validation Loss')\n",
    "    loss_plot.set_xlim([0, EPOCHS])\n",
    "    loss_plot.legend(loc=0)\n",
    "    \n",
    "    save_path = saver.save(sess, './lenet_signs.ckpt')\n",
    "    print(\"Model Saved %s\" % save_path)\n"
   ]
  },
  {
   "cell_type": "code",
   "execution_count": 13,
   "metadata": {},
   "outputs": [
    {
     "name": "stdout",
     "output_type": "stream",
     "text": [
      "<class 'numpy.ndarray'>\n",
      "(12630, 32, 32, 3)\n",
      "Test Accuracy = 0.934\n"
     ]
    }
   ],
   "source": [
    "#Evaluate Model\n",
    "\n",
    "with tf.Session() as sess:\n",
    "    sess.run(tf.global_variables_initializer())\n",
    "#     saver.restore(sess, tf.train.latest_checkpoint('.'))\n",
    "    new_saver = tf.train.import_meta_graph('lenet_signs.ckpt.meta')\n",
    "    new_saver.restore(sess, tf.train.latest_checkpoint('.'))\n",
    "    print(type(X_test))\n",
    "    print(X_test.shape)\n",
    "    test_loss, test_accuracy = evaluate(X_test, y_test)\n",
    "    print(\"Test Accuracy = {:.3f}\".format(test_accuracy))"
   ]
  },
  {
   "cell_type": "markdown",
   "metadata": {},
   "source": [
    "---\n",
    "\n",
    "## Step 3: Test a Model on New Images\n",
    "\n",
    "To give yourself more insight into how your model is working, download at least five pictures of German traffic signs from the web and use your model to predict the traffic sign type.\n",
    "\n",
    "You may find `signnames.csv` useful as it contains mappings from the class id (integer) to the actual sign name."
   ]
  },
  {
   "cell_type": "markdown",
   "metadata": {},
   "source": [
    "### Load and Output the Images"
   ]
  },
  {
   "cell_type": "code",
   "execution_count": 14,
   "metadata": {
    "scrolled": true
   },
   "outputs": [
    {
     "name": "stdout",
     "output_type": "stream",
     "text": [
      "(8, 32, 32, 3)\n",
      "<class 'numpy.ndarray'>\n"
     ]
    },
    {
     "data": {
      "image/png": "[encoded data removed]",
      "text/plain": [
       "<matplotlib.figure.Figure at 0x7fdad01d2978>"
      ]
     },
     "metadata": {},
     "output_type": "display_data"
    },
    {
     "data": {
      "image/png": "[encoded data removed]",
      "text/plain": [
       "<matplotlib.figure.Figure at 0x7fdabc7d7c88>"
      ]
     },
     "metadata": {},
     "output_type": "display_data"
    },
    {
     "data": {
      "image/png": "[encoded data removed]",
      "text/plain": [
       "<matplotlib.figure.Figure at 0x7fdabc7a6ba8>"
      ]
     },
     "metadata": {},
     "output_type": "display_data"
    },
    {
     "data": {
      "image/png": "[encoded data removed]",
      "text/plain": [
       "<matplotlib.figure.Figure at 0x7fdabc7b9a58>"
      ]
     },
     "metadata": {},
     "output_type": "display_data"
    },
    {
     "data": {
      "image/png": "[encoded data removed]",
      "text/plain": [
       "<matplotlib.figure.Figure at 0x7fdabc73b438>"
      ]
     },
     "metadata": {},
     "output_type": "display_data"
    },
    {
     "data": {
      "image/png": "[encoded data removed]",
      "text/plain": [
       "<matplotlib.figure.Figure at 0x7fdabc6c5c50>"
      ]
     },
     "metadata": {},
     "output_type": "display_data"
    },
    {
     "data": {
      "image/png": "[encoded data removed]",
      "text/plain": [
       "<matplotlib.figure.Figure at 0x7fdabc64b5c0>"
      ]
     },
     "metadata": {},
     "output_type": "display_data"
    },
    {
     "data": {
      "image/png": "[encoded data removed]",
      "text/plain": [
       "<matplotlib.figure.Figure at 0x7fdabc65d0b8>"
      ]
     },
     "metadata": {},
     "output_type": "display_data"
    }
   ],
   "source": [
    "### Load the images and plot them here.\n",
    "### Feel free to use as many code cells as needed.\n",
    "import os\n",
    "import matplotlib.pyplot as plt\n",
    "import numpy as np\n",
    "from PIL import Image\n",
    "\n",
    "dir_list = os.listdir(\"webimages/\")\n",
    "num_files = len(dir_list)\n",
    "new_images = np.empty((num_files,32,32,3), dtype=np.uint8)\n",
    "\n",
    "for i, file in enumerate(dir_list):\n",
    "    image = Image.open(\"webimages/\" + file)\n",
    "    image = image.resize((32, 32))\n",
    "    image.load()\n",
    "    image = np.asarray(image)\n",
    "    new_images[i] = image\n",
    "\n",
    "print(new_images.shape)\n",
    "print(type(new_images))\n",
    "\n",
    "for img in new_images:\n",
    "#     print(img.shape)\n",
    "    plt.figure()\n",
    "    plt.imshow(img)"
   ]
  },
  {
   "cell_type": "code",
   "execution_count": null,
   "metadata": {
    "collapsed": true
   },
   "outputs": [],
   "source": []
  },
  {
   "cell_type": "code",
   "execution_count": null,
   "metadata": {
    "collapsed": true
   },
   "outputs": [],
   "source": []
  },
  {
   "cell_type": "markdown",
   "metadata": {},
   "source": [
    "### Predict the Sign Type for Each Image"
   ]
  },
  {
   "cell_type": "code",
   "execution_count": 15,
   "metadata": {
    "scrolled": false
   },
   "outputs": [
    {
     "name": "stdout",
     "output_type": "stream",
     "text": [
      "./lenet_signs.ckpt\n",
      "(8, 32, 32, 3)\n",
      "Image name: speedlimit20.jpg, Result: Speed limit (80km/h)\n",
      "Image name: wild-animal-crossing.jpg, Result: Wild animals crossing\n",
      "Image name: no-entry-for-vehicles.jpg, Result: No entry\n",
      "Image name: dangerous-curve-right.jpg, Result: Turn left ahead\n",
      "Image name: speedlimit30.jpg, Result: Speed limit (30km/h)\n",
      "Image name: regulatory-sign-speed-limit-50-kmh-and-directional-sign-keep-off-the-EBKC62.jpg, Result: Speed limit (50km/h)\n",
      "Image name: stock-photo-german-traffic-sign-bumpy-road-for-meters-415459579.jpg, Result: Bumpy road\n",
      "Image name: stock-photo-triangle-and-roundabout-traffic-signs-at-circular-intersection-approach-241682995.jpg, Result: Roundabout mandatory\n"
     ]
    }
   ],
   "source": [
    "### Run the predictions here and use the model to output the prediction for each image.\n",
    "### Make sure to pre-process the images with the same pre-processing pipeline used earlier.\n",
    "### Feel free to use as many code cells as needed.\n",
    "\n",
    "import pandas as pd\n",
    "\n",
    "signType = pd.read_csv('signnames.csv', sep=',')\n",
    "# print(signType.iloc[3][1])\n",
    "\n",
    "print(tf.train.latest_checkpoint('.'))\n",
    "predicted_logits = []\n",
    "\n",
    "with tf.Session() as sess:\n",
    "    new_saver = tf.train.import_meta_graph('lenet_signs.ckpt.meta')\n",
    "    new_saver.restore(sess, tf.train.latest_checkpoint('.'))\n",
    "    print(new_images.shape)\n",
    "    predicted_logits = sess.run(logits, feed_dict={x: new_images, keep_prob: 1.0})\n",
    "    predicted_labels = np.argmax(predicted_logits, axis=1)\n",
    "    for i, file in enumerate(dir_list):\n",
    "            print('Image name: {}, Result: {}'.format(file, signType.iloc[predicted_labels[i]][1]))  #\n",
    "\n",
    "#         result = predict(image)\n",
    "    \n"
   ]
  },
  {
   "cell_type": "code",
   "execution_count": null,
   "metadata": {
    "collapsed": true
   },
   "outputs": [],
   "source": []
  },
  {
   "cell_type": "markdown",
   "metadata": {},
   "source": [
    "### Analyze Performance"
   ]
  },
  {
   "cell_type": "code",
   "execution_count": 18,
   "metadata": {},
   "outputs": [
    {
     "name": "stdout",
     "output_type": "stream",
     "text": [
      "[False  True  True False  True  True  True  True]\n",
      "[0, 31, 17, 20, 1, 2, 22, 40]\n",
      "[ 5 31 17 34  1  2 22 40]\n",
      "Test Accuracy = 0.750\n"
     ]
    }
   ],
   "source": [
    "### Calculate the accuracy for these 5 new images. \n",
    "### For example, if the model  predicted 1 out of 5 signs correctly, it's 20% accurate on these new images.\n",
    "new_y = [0,31,17,20,1,2,22,40]\n",
    "\n",
    "# prediction_accuracy = tf.equal(predicted_labels, new_y)\n",
    "print(np.equal(predicted_labels, new_y))\n",
    "print(new_y)\n",
    "print(predicted_labels)\n",
    "\n",
    "new_accuracy = np.sum(np.equal(predicted_labels, new_y))/num_files\n",
    "print(\"Test Accuracy = {:.3f}\".format(new_accuracy))"
   ]
  },
  {
   "cell_type": "markdown",
   "metadata": {},
   "source": [
    "### Output Top 5 Softmax Probabilities For Each Image Found on the Web"
   ]
  },
  {
   "cell_type": "markdown",
   "metadata": {},
   "source": [
    "For each of the new images, print out the model's softmax probabilities to show the **certainty** of the model's predictions (limit the output to the top 5 probabilities for each image). [`tf.nn.top_k`](https://www.tensorflow.org/versions/r0.12/api_docs/python/nn.html#top_k) could prove helpful here. \n",
    "\n",
    "The example below demonstrates how tf.nn.top_k can be used to find the top k predictions for each image.\n",
    "\n",
    "`tf.nn.top_k` will return the values and indices (class ids) of the top k predictions. So if k=3, for each sign, it'll return the 3 largest probabilities (out of a possible 43) and the correspoding class ids.\n",
    "\n",
    "Take this numpy array as an example. The values in the array represent predictions. The array contains softmax probabilities for five candidate images with six possible classes. `tk.nn.top_k` is used to choose the three classes with the highest probability:\n",
    "\n",
    "```\n",
    "# (5, 6) array\n",
    "a = np.array([[ 0.24879643,  0.07032244,  0.12641572,  0.34763842,  0.07893497,\n",
    "         0.12789202],\n",
    "       [ 0.28086119,  0.27569815,  0.08594638,  0.0178669 ,  0.18063401,\n",
    "         0.15899337],\n",
    "       [ 0.26076848,  0.23664738,  0.08020603,  0.07001922,  0.1134371 ,\n",
    "         0.23892179],\n",
    "       [ 0.11943333,  0.29198961,  0.02605103,  0.26234032,  0.1351348 ,\n",
    "         0.16505091],\n",
    "       [ 0.09561176,  0.34396535,  0.0643941 ,  0.16240774,  0.24206137,\n",
    "         0.09155967]])\n",
    "```\n",
    "\n",
    "Running it through `sess.run(tf.nn.top_k(tf.constant(a), k=3))` produces:\n",
    "\n",
    "```\n",
    "TopKV2(values=array([[ 0.34763842,  0.24879643,  0.12789202],\n",
    "       [ 0.28086119,  0.27569815,  0.18063401],\n",
    "       [ 0.26076848,  0.23892179,  0.23664738],\n",
    "       [ 0.29198961,  0.26234032,  0.16505091],\n",
    "       [ 0.34396535,  0.24206137,  0.16240774]]), indices=array([[3, 0, 5],\n",
    "       [0, 1, 4],\n",
    "       [0, 5, 1],\n",
    "       [1, 3, 5],\n",
    "       [1, 4, 3]], dtype=int32))\n",
    "```\n",
    "\n",
    "Looking just at the first row we get `[ 0.34763842,  0.24879643,  0.12789202]`, you can confirm these are the 3 largest probabilities in `a`. You'll also notice `[3, 0, 5]` are the corresponding indices."
   ]
  },
  {
   "cell_type": "code",
   "execution_count": 17,
   "metadata": {},
   "outputs": [
    {
     "name": "stdout",
     "output_type": "stream",
     "text": [
      "TopKV2(values=array([[  1.76648819e+00,   5.95084429e-01,   2.74031401e-01,\n",
      "          1.12285256e-01,  -4.60152924e-02],\n",
      "       [  1.06068058e+01,   9.28686714e+00,   4.53836298e+00,\n",
      "          3.95240927e+00,   3.86366916e+00],\n",
      "       [  4.02593460e+01,   2.70973492e+00,  -3.60199958e-02,\n",
      "         -5.42487335e+00,  -7.01541710e+00],\n",
      "       [  1.39202988e+00,   1.19932139e+00,   7.69434810e-01,\n",
      "          5.63534260e-01,   3.71162564e-01],\n",
      "       [  2.17719097e+01,   1.27425833e+01,   1.27396774e+01,\n",
      "          8.34615135e+00,   2.49893761e+00],\n",
      "       [  2.33800831e+01,   1.57765627e+01,   1.05056925e+01,\n",
      "          1.04720831e+01,  -1.28449178e+00],\n",
      "       [  2.52290230e+01,   1.84329796e+01,   1.80711746e+01,\n",
      "          1.30293083e+01,   1.16715279e+01],\n",
      "       [  1.06783113e+01,   8.23060131e+00,   4.36914730e+00,\n",
      "          2.08038187e+00,   1.98608339e+00]], dtype=float32), indices=array([[ 5,  3, 10,  7, 16],\n",
      "       [31, 21, 20, 11, 23],\n",
      "       [17, 36,  1, 14, 32],\n",
      "       [34, 13, 33, 35, 38],\n",
      "       [ 1,  5,  2,  0,  4],\n",
      "       [ 2,  1,  5,  3,  6],\n",
      "       [22, 25, 29, 28, 36],\n",
      "       [40, 12,  7, 32, 42]], dtype=int32))\n"
     ]
    }
   ],
   "source": [
    "### Print out the top five softmax probabilities for the predictions on the German traffic sign images found on the web. \n",
    "### Feel free to use as many code cells as needed.\n",
    "with tf.Session() as sess:\n",
    "    top5 = sess.run(tf.nn.top_k(tf.constant(predicted_logits), k=5))\n",
    "    print(top5)"
   ]
  },
  {
   "cell_type": "markdown",
   "metadata": {},
   "source": [
    "### Project Writeup\n",
    "\n",
    "Once you have completed the code implementation, document your results in a project writeup using this [template](https://github.com/udacity/CarND-Traffic-Sign-Classifier-Project/blob/master/writeup_template.md) as a guide. The writeup can be in a markdown or pdf file. "
   ]
  },
  {
   "cell_type": "markdown",
   "metadata": {},
   "source": [
    "> **Note**: Once you have completed all of the code implementations and successfully answered each question above, you may finalize your work by exporting the iPython Notebook as an HTML document. You can do this by using the menu above and navigating to  \\n\",\n",
    "    \"**File -> Download as -> HTML (.html)**. Include the finished document along with this notebook as your submission."
   ]
  },
  {
   "cell_type": "markdown",
   "metadata": {},
   "source": [
    "---\n",
    "\n",
    "## Step 4 (Optional): Visualize the Neural Network's State with Test Images\n",
    "\n",
    " This Section is not required to complete but acts as an additional excersise for understaning the output of a neural network's weights. While neural networks can be a great learning device they are often referred to as a black box. We can understand what the weights of a neural network look like better by plotting their feature maps. After successfully training your neural network you can see what it's feature maps look like by plotting the output of the network's weight layers in response to a test stimuli image. From these plotted feature maps, it's possible to see what characteristics of an image the network finds interesting. For a sign, maybe the inner network feature maps react with high activation to the sign's boundary outline or to the contrast in the sign's painted symbol.\n",
    "\n",
    " Provided for you below is the function code that allows you to get the visualization output of any tensorflow weight layer you want. The inputs to the function should be a stimuli image, one used during training or a new one you provided, and then the tensorflow variable name that represents the layer's state during the training process, for instance if you wanted to see what the [LeNet lab's](https://classroom.udacity.com/nanodegrees/nd013/parts/fbf77062-5703-404e-b60c-95b78b2f3f9e/modules/6df7ae49-c61c-4bb2-a23e-6527e69209ec/lessons/601ae704-1035-4287-8b11-e2c2716217ad/concepts/d4aca031-508f-4e0b-b493-e7b706120f81) feature maps looked like for it's second convolutional layer you could enter conv2 as the tf_activation variable.\n",
    "\n",
    "For an example of what feature map outputs look like, check out NVIDIA's results in their paper [End-to-End Deep Learning for Self-Driving Cars](https://devblogs.nvidia.com/parallelforall/deep-learning-self-driving-cars/) in the section Visualization of internal CNN State. NVIDIA was able to show that their network's inner weights had high activations to road boundary lines by comparing feature maps from an image with a clear path to one without. Try experimenting with a similar test to show that your trained network's weights are looking for interesting features, whether it's looking at differences in feature maps from images with or without a sign, or even what feature maps look like in a trained network vs a completely untrained one on the same sign image.\n",
    "\n",
    "<figure>\n",
    " <img src=\"visualize_cnn.png\" width=\"380\" alt=\"Combined Image\" />\n",
    " <figcaption>\n",
    " <p></p> \n",
    " <p style=\"text-align: center;\"> Your output should look something like this (above)</p> \n",
    " </figcaption>\n",
    "</figure>\n",
    " <p></p> \n"
   ]
  },
  {
   "cell_type": "code",
   "execution_count": null,
   "metadata": {
    "collapsed": true
   },
   "outputs": [],
   "source": [
    "### Visualize your network's feature maps here.\n",
    "### Feel free to use as many code cells as needed.\n",
    "\n",
    "# image_input: the test image being fed into the network to produce the feature maps\n",
    "# tf_activation: should be a tf variable name used during your training procedure that represents the calculated state of a specific weight layer\n",
    "# activation_min/max: can be used to view the activation contrast in more detail, by default matplot sets min and max to the actual min and max values of the output\n",
    "# plt_num: used to plot out multiple different weight feature map sets on the same block, just extend the plt number for each new feature map entry\n",
    "\n",
    "def outputFeatureMap(image_input, tf_activation, activation_min=-1, activation_max=-1 ,plt_num=1):\n",
    "    # Here make sure to preprocess your image_input in a way your network expects\n",
    "    # with size, normalization, ect if needed\n",
    "    # image_input =\n",
    "    # Note: x should be the same name as your network's tensorflow data placeholder variable\n",
    "    # If you get an error tf_activation is not defined it may be having trouble accessing the variable from inside a function\n",
    "    activation = tf_activation.eval(session=sess,feed_dict={x : image_input})\n",
    "    featuremaps = activation.shape[3]\n",
    "    plt.figure(plt_num, figsize=(15,15))\n",
    "    for featuremap in range(featuremaps):\n",
    "        plt.subplot(6,8, featuremap+1) # sets the number of feature maps to show on each row and column\n",
    "        plt.title('FeatureMap ' + str(featuremap)) # displays the feature map number\n",
    "        if activation_min != -1 & activation_max != -1:\n",
    "            plt.imshow(activation[0,:,:, featuremap], interpolation=\"nearest\", vmin =activation_min, vmax=activation_max, cmap=\"gray\")\n",
    "        elif activation_max != -1:\n",
    "            plt.imshow(activation[0,:,:, featuremap], interpolation=\"nearest\", vmax=activation_max, cmap=\"gray\")\n",
    "        elif activation_min !=-1:\n",
    "            plt.imshow(activation[0,:,:, featuremap], interpolation=\"nearest\", vmin=activation_min, cmap=\"gray\")\n",
    "        else:\n",
    "            plt.imshow(activation[0,:,:, featuremap], interpolation=\"nearest\", cmap=\"gray\")"
   ]
  },
  {
   "cell_type": "code",
   "execution_count": null,
   "metadata": {},
   "outputs": [],
   "source": [
    "conv1 = tf.get_collection(\"conv1\")[0]\n",
    "conv2 = tf.get_collection(\"conv2\")[0]\n",
    "conv3 = tf.get_collection(\"conv3\")[0]\n",
    "flat = tf.get_collection(\"flat\")[0]\n",
    "fc1 = tf.get_collection(\"fc1\")[0]\n",
    "fc2 = tf.get_collection(\"fc2\")[0]\n",
    "logits = tf.get_collection(\"logits\")[0]\n",
    "\n",
    "outputFeatureMap(new_images[0], conv1, plt_num=1)\n",
    "outputFeatureMap(new_images[0], conv2, plt_num=2)\n",
    "outputFeatureMap(new_images[0], conv3, plt_num=3)\n",
    "outputFeatureMap(new_images[0], flat, plt_num=4)\n",
    "outputFeatureMap(new_images[0], fc1, plt_num=5)\n",
    "outputFeatureMap(new_images[0], fc2, plt_num=6)\n",
    "outputFeatureMap(new_images[0], logits, plt_num=7)"
   ]
  }
 ],
 "metadata": {
  "anaconda-cloud": {},
  "kernelspec": {
   "display_name": "Python 3",
   "language": "python",
   "name": "python3"
  },
  "language_info": {
   "codemirror_mode": {
    "name": "ipython",
    "version": 3
   },
   "file_extension": ".py",
   "mimetype": "text/x-python",
   "name": "python",
   "nbconvert_exporter": "python",
   "pygments_lexer": "ipython3",
   "version": "3.5.2"
  },
  "widgets": {
   "state": {},
   "version": "1.1.2"
  }
 },
 "nbformat": 4,
 "nbformat_minor": 1
}
